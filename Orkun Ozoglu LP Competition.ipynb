{
 "cells": [
  {
   "cell_type": "code",
   "execution_count": 1,
   "id": "d4e6c1a5-5ced-446a-892e-94c732c15dc5",
   "metadata": {},
   "outputs": [
    {
     "data": {
      "application/vnd.jupyter.widget-view+json": {
       "model_id": "91e1bfe531574769920f27dba030a7e4",
       "version_major": 2,
       "version_minor": 0
      },
      "text/plain": [
       "IntSlider(value=0)"
      ]
     },
     "metadata": {},
     "output_type": "display_data"
    }
   ],
   "source": [
    "import torch\n",
    "import warnings\n",
    "import torch_geometric.nn\n",
    "import numpy as np\n",
    "\n",
    "import networkx as nx\n",
    "import torch.nn.functional as F\n",
    "\n",
    "from torch_geometric.nn import GCNConv\n",
    "from numpy import genfromtxt\n",
    "\n",
    "from torch_geometric.data import Data\n",
    "from sklearn.metrics import roc_auc_score\n",
    "from torch_geometric.utils import negative_sampling, train_test_split_edges\n",
    "import ipywidgets as widgets\n",
    "\n",
    "widgets.IntSlider()"
   ]
  },
  {
   "cell_type": "code",
   "execution_count": 2,
   "id": "ad121bc9-e7ff-448b-8e7d-1169f5816f9d",
   "metadata": {},
   "outputs": [],
   "source": [
    "warnings.simplefilter(action='ignore', category=FutureWarning)\n",
    "device = torch.device('cuda' if torch.cuda.is_available() else 'cpu')"
   ]
  },
  {
   "cell_type": "code",
   "execution_count": 3,
   "id": "51f35261-afce-42e8-b803-1483b4a5f322",
   "metadata": {},
   "outputs": [
    {
     "data": {
      "text/plain": [
       "<torch._C.Generator at 0x1066d1350>"
      ]
     },
     "execution_count": 3,
     "metadata": {},
     "output_type": "execute_result"
    }
   ],
   "source": [
    "# Seed\n",
    "torch.manual_seed(42)"
   ]
  },
  {
   "cell_type": "markdown",
   "id": "0becdaf5-8fdd-4697-8ecd-c055612fb895",
   "metadata": {},
   "source": [
    "### Load the graph and tranmit to torch geom Data object"
   ]
  },
  {
   "cell_type": "code",
   "execution_count": 4,
   "id": "14edc904-7de7-46ab-a35a-5e5a954a76d4",
   "metadata": {},
   "outputs": [],
   "source": [
    "node_features = genfromtxt('node_feat.txt', delimiter=' ')\n",
    "edge_list = genfromtxt('train_edges.txt', delimiter=' ')\n",
    "\n",
    "x = torch.as_tensor(node_features, dtype=torch.float32)\n",
    "edge_index = torch.tensor(edge_list, dtype=torch.long)\n",
    "\n",
    "graph = Data(x=x, edge_index=edge_index.t().contiguous(), num_classes=2)"
   ]
  },
  {
   "cell_type": "code",
   "execution_count": 5,
   "id": "c0b35ba3-880b-4500-9f36-17d6b77d81bb",
   "metadata": {},
   "outputs": [],
   "source": [
    "x = graph.x.to(device)\n",
    "\n",
    "transform = torch_geometric.transforms.RandomLinkSplit(\n",
    "    num_val=0.0,\n",
    "    num_test=0.0,\n",
    "    is_undirected=False, \n",
    "    split_labels=True,\n",
    "    key='connected',\n",
    "    add_negative_train_samples=True,\n",
    ")\n",
    "\n",
    "data, _, _ = transform(graph)"
   ]
  },
  {
   "cell_type": "code",
   "execution_count": 6,
   "id": "1076a3fd-ba41-4a0c-b3d6-8945aa91295d",
   "metadata": {},
   "outputs": [
    {
     "data": {
      "text/plain": [
       "Data(x=[12588, 32], edge_index=[2, 14322], num_classes=2, pos_connected=[14322], pos_connected_index=[2, 14322], neg_connected=[14322], neg_connected_index=[2, 14322])"
      ]
     },
     "execution_count": 6,
     "metadata": {},
     "output_type": "execute_result"
    }
   ],
   "source": [
    "data"
   ]
  },
  {
   "cell_type": "markdown",
   "id": "f8faf9cd-cc0c-431e-854b-fe2a648838d2",
   "metadata": {
    "tags": []
   },
   "source": [
    "### Helper functions"
   ]
  },
  {
   "cell_type": "code",
   "execution_count": 7,
   "id": "c4328f50-cbdc-4a8f-876f-1dc5a9c17de4",
   "metadata": {},
   "outputs": [],
   "source": [
    "def get_link_labels(pos_edge_index, neg_edge_index):\n",
    "    num_links = pos_edge_index.size(1) + neg_edge_index.size(1)\n",
    "    link_labels = torch.zeros(num_links, dtype=torch.float)\n",
    "    link_labels[:pos_edge_index.size(1)] = 1.\n",
    "    return link_labels"
   ]
  },
  {
   "cell_type": "code",
   "execution_count": 8,
   "id": "fdd69cd8-1206-4ca8-b17c-50d1344d0d1a",
   "metadata": {},
   "outputs": [],
   "source": [
    "def train():\n",
    "    model.train()\n",
    "    optimizer.zero_grad()\n",
    "\n",
    "    neg_edge_index = negative_sampling(\n",
    "        edge_index=data.pos_connected_index,\n",
    "        num_nodes=data.num_nodes,\n",
    "        num_neg_samples=data.pos_connected.shape[0])\n",
    "    z = model.encode(data.x, data.pos_connected_index)\n",
    "    link_logits = model.decode(z, data.pos_connected_index, neg_edge_index)\n",
    "    link_labels = get_link_labels(data.pos_connected_index, neg_edge_index).to(data.x.device)\n",
    "    loss = F.binary_cross_entropy_with_logits(link_logits, link_labels)\n",
    "\n",
    "    loss.backward()\n",
    "    optimizer.step()\n",
    "    return float(loss)"
   ]
  },
  {
   "cell_type": "code",
   "execution_count": 9,
   "id": "340c9896-7bca-4326-ac7d-75d165ec800d",
   "metadata": {},
   "outputs": [],
   "source": [
    "@torch.no_grad()\n",
    "def test(data):\n",
    "    model.eval()\n",
    "    z = model.encode(data.x, data.pos_connected_index)\n",
    "    link_logits = model.decode(z, data.pos_connected_index, data.neg_connected_index)\n",
    "    link_labels = get_link_labels(data.pos_connected_index, data.neg_connected_index)\n",
    "    return roc_auc_score(link_labels.cpu(), link_logits.cpu())"
   ]
  },
  {
   "cell_type": "markdown",
   "id": "b90db239-859b-435e-b835-d6d5de163ac6",
   "metadata": {},
   "source": [
    "### Encoder"
   ]
  },
  {
   "cell_type": "markdown",
   "id": "e20230c8-21d2-4475-9ad8-1799c144cb9f",
   "metadata": {},
   "source": [
    "Added $tanh()$ to the dot product for the decoder."
   ]
  },
  {
   "cell_type": "code",
   "execution_count": 10,
   "id": "63ba944a-0e12-464d-a971-de5ff77b9170",
   "metadata": {},
   "outputs": [],
   "source": [
    "class Net(torch.nn.Module):\n",
    "    def __init__(self, in_channels, hidden_channels, out_channels):\n",
    "        super(Net, self).__init__()\n",
    "        self.conv_1 = GCNConv(in_channels, hidden_channels, cached=True)\n",
    "        self.conv_2 = GCNConv(hidden_channels, out_channels, cached=True)\n",
    "    \n",
    "    def encode(self, x, edge_index):\n",
    "        x = self.conv_1(x, edge_index)\n",
    "        \n",
    "        ####### Use Randomized LeakyRELU ###########\n",
    "        x = F.rrelu(x)\n",
    "        ####### Use Randomized LeakyRELU ###########\n",
    "\n",
    "        x = self.conv_2(x, edge_index)\n",
    "        return x\n",
    "\n",
    "    def decode(self, z, pos_edge_index, neg_edge_index):\n",
    "        edge_index = torch.cat([pos_edge_index, neg_edge_index], dim=-1)\n",
    "        \n",
    "        ####### Apply tanh after dot product ########  \n",
    "        h = (z[edge_index[0]] * z[edge_index[1]]).sum(dim=-1).tanh()\n",
    "        return h"
   ]
  },
  {
   "cell_type": "code",
   "execution_count": 11,
   "id": "10fbd25a-37e9-4c6a-98be-df54bbe11271",
   "metadata": {},
   "outputs": [],
   "source": [
    "# Hyperparametes\n",
    "IN_CHANNELS = 32\n",
    "HIDDEN_CHANNELS = 512\n",
    "OUT_CHANNELS = 512\n",
    "LEARNING_RATE = 0.001"
   ]
  },
  {
   "cell_type": "code",
   "execution_count": 12,
   "id": "4afe8e0b-2413-4eb6-a9e6-1f62e9a1b3f5",
   "metadata": {},
   "outputs": [],
   "source": [
    "model = Net(IN_CHANNELS, HIDDEN_CHANNELS, OUT_CHANNELS).to(device)\n",
    "optimizer = torch.optim.Adam(model.parameters(), lr=LEARNING_RATE)"
   ]
  },
  {
   "cell_type": "code",
   "execution_count": 13,
   "id": "78bcbf5b-8ee0-4f64-a50f-37dfdf090dd1",
   "metadata": {},
   "outputs": [
    {
     "name": "stdout",
     "output_type": "stream",
     "text": [
      "Epoch: 100, ROC-AUC: 0.9331, Loss: 0.5004\n",
      "Epoch: 200, ROC-AUC: 0.9288, Loss: 0.4933\n",
      "Epoch: 300, ROC-AUC: 0.9230, Loss: 0.4834\n",
      "Epoch: 400, ROC-AUC: 0.9204, Loss: 0.4739\n",
      "Epoch: 500, ROC-AUC: 0.9072, Loss: 0.4739\n",
      "Epoch: 600, ROC-AUC: 0.9164, Loss: 0.4641\n",
      "Epoch: 700, ROC-AUC: 0.9133, Loss: 0.4572\n",
      "Epoch: 800, ROC-AUC: 0.9125, Loss: 0.4573\n",
      "Epoch: 900, ROC-AUC: 0.9114, Loss: 0.4545\n",
      "Epoch: 1000, ROC-AUC: 0.9114, Loss: 0.4524\n",
      "Epoch: 1100, ROC-AUC: 0.9100, Loss: 0.4477\n",
      "Epoch: 1200, ROC-AUC: 0.9093, Loss: 0.4506\n",
      "Epoch: 1300, ROC-AUC: 0.9091, Loss: 0.4471\n",
      "Epoch: 1400, ROC-AUC: 0.9090, Loss: 0.4479\n",
      "Epoch: 1500, ROC-AUC: 0.9078, Loss: 0.4423\n",
      "Epoch: 1600, ROC-AUC: 0.9049, Loss: 0.4501\n",
      "Epoch: 1700, ROC-AUC: 0.9071, Loss: 0.4438\n",
      "Epoch: 1800, ROC-AUC: 0.9018, Loss: 0.4536\n",
      "Epoch: 1900, ROC-AUC: 0.9067, Loss: 0.4391\n",
      "Epoch: 2000, ROC-AUC: 0.9062, Loss: 0.4402\n"
     ]
    }
   ],
   "source": [
    "EPOCH = 2000\n",
    "for epoch in range(1, EPOCH + 1):\n",
    "    loss = train()\n",
    "    auc = test(data)\n",
    "    if epoch % 100 == 0:\n",
    "        print(f'Epoch: {epoch:03d}, ROC-AUC: {auc:.4f}, Loss: {loss:.4f}')"
   ]
  },
  {
   "cell_type": "markdown",
   "id": "3765544a-ba2f-4d17-8974-3b4e825a690a",
   "metadata": {},
   "source": [
    "### Predicting links from the unlabeled edges file"
   ]
  },
  {
   "cell_type": "code",
   "execution_count": 18,
   "id": "2da19a33-600b-40f2-a783-9716d7c40448",
   "metadata": {},
   "outputs": [],
   "source": [
    "Z = model.encode(data.x, data.pos_connected_index)"
   ]
  },
  {
   "cell_type": "code",
   "execution_count": 19,
   "id": "94bc1706-5913-44a7-8d6a-22c50b61ee63",
   "metadata": {},
   "outputs": [],
   "source": [
    "A = Z @ Z.t()"
   ]
  },
  {
   "cell_type": "code",
   "execution_count": 22,
   "id": "211c8caa",
   "metadata": {
    "tags": []
   },
   "outputs": [],
   "source": [
    "def output_link_preds(A, path, out):\n",
    "    link_labels = list()\n",
    "    with open(path) as f:\n",
    "        for line in f.readlines():\n",
    "            nodes_str = line.strip(\"\\n\").split(\" \")\n",
    "            nodes = int(nodes_str[0]), int(nodes_str[1])\n",
    "            label = A[nodes] \n",
    "            if label > 0:\n",
    "                link_labels.append(1)\n",
    "            else:\n",
    "                link_labels.append(0)\n",
    "\n",
    "    np.savetxt(out, link_labels, fmt='%d')"
   ]
  },
  {
   "cell_type": "code",
   "execution_count": 23,
   "id": "58741be7-b963-4fdb-9366-19b13fa40cfd",
   "metadata": {},
   "outputs": [],
   "source": [
    "output_link_preds(A, 'unlabeled_edges.txt', 'preds_submit.txt')"
   ]
  }
 ],
 "metadata": {
  "kernelspec": {
   "display_name": "Python 3 (ipykernel)",
   "language": "python",
   "name": "python3"
  },
  "language_info": {
   "codemirror_mode": {
    "name": "ipython",
    "version": 3
   },
   "file_extension": ".py",
   "mimetype": "text/x-python",
   "name": "python",
   "nbconvert_exporter": "python",
   "pygments_lexer": "ipython3",
   "version": "3.8.13"
  }
 },
 "nbformat": 4,
 "nbformat_minor": 5
}
